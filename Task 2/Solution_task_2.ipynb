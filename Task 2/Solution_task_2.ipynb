{
 "cells": [
  {
   "cell_type": "code",
   "execution_count": 207,
   "metadata": {},
   "outputs": [],
   "source": [
    "#Импортируем библиотеки\n",
    "import networkx as nx\n",
    "import matplotlib as plt\n",
    "from openpyxl import load_workbook"
   ]
  },
  {
   "cell_type": "code",
   "execution_count": 208,
   "metadata": {},
   "outputs": [],
   "source": [
    "#Загружаем excel книгу\n",
    "wb = load_workbook('C:\\\\Users\\\\Всеволод\\\\Desktop\\\\data.xlsx')"
   ]
  },
  {
   "cell_type": "code",
   "execution_count": 209,
   "metadata": {},
   "outputs": [],
   "source": [
    "#Загружаем два столбика данных\n",
    "A = {}\n",
    "B = {}\n",
    "for i in range(261):\n",
    "    A[i] = sheet.cell(row = i + 2, column = 2).value\n",
    "    B[i] = sheet.cell(row = i + 2, column = 3).value"
   ]
  },
  {
   "cell_type": "code",
   "execution_count": 210,
   "metadata": {},
   "outputs": [
    {
     "name": "stdout",
     "output_type": "stream",
     "text": [
      "Крылова Таисия Ждановна Николаев Святослав Матвеевич\n"
     ]
    }
   ],
   "source": [
    "#Проверка\n",
    "print(A[260], B[260])"
   ]
  },
  {
   "cell_type": "code",
   "execution_count": 211,
   "metadata": {},
   "outputs": [],
   "source": [
    "#Делим каждое имя на список из ФИО ('ФИО' -> ['Ф','И','О'])\n",
    "import numpy as np\n",
    "for i in range(len(A)):\n",
    "    st = A[i]\n",
    "    prob = np.zeros(2)\n",
    "    k = 0\n",
    "    for j in range(len(st)):\n",
    "        if(st[j] == ' '):\n",
    "            prob[k] = j\n",
    "            k += 1\n",
    "    k = 0\n",
    "    A[i] = [st[0:int(prob[0])], st[int(prob[0] + 1) : int(prob[1])], st[int(prob[1] + 1) : ]]\n",
    "\n",
    "for i in range(len(B)):\n",
    "    st = B[i]\n",
    "    prob = np.zeros(2)\n",
    "    k = 0\n",
    "    for j in range(len(st)):\n",
    "        if(st[j] == ' '):\n",
    "            prob[k] = j\n",
    "            k += 1\n",
    "    k = 0\n",
    "    B[i] = [st[0:int(prob[0])], st[int(prob[0] + 1) : int(prob[1])], st[int(prob[1] + 1) : ]]"
   ]
  },
  {
   "cell_type": "code",
   "execution_count": 212,
   "metadata": {},
   "outputs": [
    {
     "name": "stdout",
     "output_type": "stream",
     "text": [
      "['Беляев', 'Владислав', 'Аркадьевич'] ['Ефимов', 'Малик', 'Константинович']\n"
     ]
    }
   ],
   "source": [
    "#Проверка\n",
    "print(A[0], B[0])"
   ]
  },
  {
   "cell_type": "code",
   "execution_count": 227,
   "metadata": {},
   "outputs": [
    {
     "name": "stdout",
     "output_type": "stream",
     "text": [
      "['Дорофеева', 'Гулия', 'Николаевна'] 14 77\n",
      "['Дорофеева', 'Гулия', 'Николаевна'] 14 80\n",
      "['Дорофеева', 'Гулия', 'Николаевна'] 14 188\n",
      "['Дорофеева', 'Гулия', 'Николаевна'] 14 230\n",
      "['Котова', 'Виктория', 'Архиповна'] 32 155\n",
      "['Котова', 'Виктория', 'Архиповна'] 32 201\n",
      "['Мухамадеев', 'Александр', 'Валерьевич'] 49 115\n",
      "['Мухамадеев', 'Александр', 'Валерьевич'] 49 136\n",
      "['Комин', 'Сергей', 'Николаевич'] 62 89\n",
      "['Дорофеева', 'Гулия', 'Николаевна'] 77 14\n",
      "['Дорофеева', 'Гулия', 'Николаевна'] 77 80\n",
      "['Дорофеева', 'Гулия', 'Николаевна'] 77 188\n",
      "['Дорофеева', 'Гулия', 'Николаевна'] 77 230\n",
      "['Дорофеева', 'Гулия', 'Николаевна'] 80 14\n",
      "['Дорофеева', 'Гулия', 'Николаевна'] 80 77\n",
      "['Дорофеева', 'Гулия', 'Николаевна'] 80 188\n",
      "['Дорофеева', 'Гулия', 'Николаевна'] 80 230\n",
      "['Воробьев', 'Иван', 'Александрович'] 89 142\n",
      "['Рогачев', 'Антон', 'Владимирович'] 115 49\n",
      "['Рогачев', 'Антон', 'Владимирович'] 115 184\n",
      "['Мухамадеев', 'Александр', 'Валерьевич'] 136 49\n",
      "['Стрелков', 'Евгений', 'Егорович'] 141 226\n",
      "['Павлова', 'Мария', 'Геннадиевна'] 142 62\n",
      "['Архипова', 'Анна', 'Игоревна'] 146 236\n",
      "['Котова', 'Виктория', 'Архиповна'] 155 32\n",
      "['Котова', 'Виктория', 'Архиповна'] 155 201\n",
      "['Коробов', 'Вадим', 'Александрович'] 184 136\n",
      "['Галкина', 'Елена', 'Тарасовна'] 188 230\n",
      "['Мамонтов', 'Мстислав', 'Георгиевич'] 205 146\n",
      "['Мамонтов', 'Мстислав', 'Георгиевич'] 205 236\n",
      "['Стрелков', 'Евгений', 'Егорович'] 226 141\n",
      "['Шубин', 'Всеволод', 'Валерьевич'] 230 188\n",
      "['Федотов', 'Ростислав', 'Богуславович'] 236 146\n"
     ]
    }
   ],
   "source": [
    "#Список людей, попавших в аварию больше чем один раз\n",
    "#Для визуальной оценки поставленной задачи\n",
    "for i in range(261):\n",
    "    for j in range(261):\n",
    "        if (A[i] == B[j] or (A[i] == A[j] and i != j) or (B[i] == B[j] and i != j)):\n",
    "            print(A[i], i, j)"
   ]
  },
  {
   "cell_type": "code",
   "execution_count": 216,
   "metadata": {},
   "outputs": [],
   "source": [
    "#Функция, которая ищет связи с полученным на входе ФИО. Связи - это аварии и одинаковые фамилии\n",
    "#Полный граф связей мы сможем получить рекурсионно путешествуя по людям\n",
    "# names - список людей, которые уже являются вершинами графа связей\n",
    "\n",
    "def find_link (name, prev_name):\n",
    "    \n",
    "    link_list = [] #список связей\n",
    "    \n",
    "    if (name not in names):\n",
    "        names.append(name)\n",
    "    \n",
    "    for i in range(len(A)): #добавляем связи образованные по средствам аварий\n",
    "        if (A[i] == name):\n",
    "            link_list.append(B[i])\n",
    "        if (B[i] == name):\n",
    "            link_list.append(A[i])\n",
    "    \n",
    "    for i in range(len(link_list)): #удаляем из списка связей предыдущего человека\n",
    "        if(link_list[i] == prev_name):\n",
    "            link_list.pop(i)\n",
    "            break;\n",
    "    \n",
    "    #more_links = find_papa(name) #Добавляем дополнительные связи, образованные другими способами (в данном случае, я дополнительно смотрел связи людей с одинаковыми фамилиями)\n",
    "    #for i in range(len(more_links)): #Плюсуем дополнительные связи\n",
    "        #link_list.append(more_links[i])\n",
    "        \n",
    "    link_list_2 = [] #новый список связей\n",
    "    \n",
    "    for i in range(len(link_list)): #Двигаемся по списку связей\n",
    "        if(link_list[i] in names): #если узел уже есть в списке, то рисуем ребро графа\n",
    "            G.add_edge(str(name[0])+' '+str(name[1][0:1]), str(link_list[i][0])+' '+str(link_list[i][1][0:1]))\n",
    "        else:\n",
    "            link_list_2.append(link_list[i]) #если нет, то добавляем в список следущих претендентов на поиск связей\n",
    "\n",
    "    if(len(link_list_2) == 0): #если мы пришли к концу графа, то возвращаемся рекурсионно назад\n",
    "        return 'END';\n",
    "    else:\n",
    "        for i in range(len(link_list_2)): #если нет, то рисуем связь и двигаемся по рекурсии вперёд\n",
    "            G.add_edge(str(name[0])+' '+str(name[1][0:1]), str(link_list_2[i][0])+' '+str(link_list_2[i][1][0:1]))\n",
    "            find_link(link_list_2[i], name)"
   ]
  },
  {
   "cell_type": "code",
   "execution_count": 215,
   "metadata": {},
   "outputs": [],
   "source": [
    "#функция поиска \"родственных\" связей\n",
    "def find_papa (name):\n",
    "    papa = []\n",
    "    papa_2 = []\n",
    "    for i in range(len(A)): #Ищём людей с такой же фамилией\n",
    "        if(name[0][0:6] == A[i][0][0:6] and name != A[i]):\n",
    "            papa.append(A[i])\n",
    "        if(name[0][0:6] == B[i][0][0:6] and name != B[i]):\n",
    "            papa.append(B[i])\n",
    "    for i in range(len(papa)):\n",
    "        if(papa[i] not in papa_2):\n",
    "            papa_2.append(papa[i])\n",
    "    return papa_2"
   ]
  },
  {
   "cell_type": "code",
   "execution_count": 229,
   "metadata": {},
   "outputs": [
    {
     "data": {
      "image/png": "[encoded data removed]",
      "text/plain": [
       "<matplotlib.figure.Figure at 0x2c64120bf98>"
      ]
     },
     "metadata": {},
     "output_type": "display_data"
    }
   ],
   "source": [
    "G=nx.Graph() #Граф\n",
    "names = [] #Список имён, участвующих в графе\n",
    "find_link (A[230], 0) #Запускаем функцию поиска\n",
    "nx.draw(G, node_size = 50, with_labels = 1) #Рисуем граф"
   ]
  },
  {
   "cell_type": "code",
   "execution_count": null,
   "metadata": {},
   "outputs": [],
   "source": []
  }
 ],
 "metadata": {
  "kernelspec": {
   "display_name": "Python 3",
   "language": "python",
   "name": "python3"
  },
  "language_info": {
   "codemirror_mode": {
    "name": "ipython",
    "version": 3
   },
   "file_extension": ".py",
   "mimetype": "text/x-python",
   "name": "python",
   "nbconvert_exporter": "python",
   "pygments_lexer": "ipython3",
   "version": "3.6.3"
  }
 },
 "nbformat": 4,
 "nbformat_minor": 2
}
